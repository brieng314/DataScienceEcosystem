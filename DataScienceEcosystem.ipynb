{
 "cells": [
  {
   "cell_type": "markdown",
   "id": "a947d6f2-ad44-4ba8-a638-6ce7f7a3919e",
   "metadata": {},
   "source": [
    "# Data Science Ecosystem"
   ]
  },
  {
   "cell_type": "markdown",
   "id": "79990644-fe3b-490f-88f2-873224f9953d",
   "metadata": {},
   "source": [
    "In this notebook, Data Science Tools and Ecosystem are summarized."
   ]
  },
  {
   "cell_type": "markdown",
   "id": "508f2c87-48eb-4e47-aa8e-423027fedae4",
   "metadata": {},
   "source": [
    "**Objectives:** \n",
    "- Languages used for Data Scientist\n",
    "- Libraries used for Data Scientist\n",
    "- Tools used for Data Scientist"
   ]
  },
  {
   "cell_type": "markdown",
   "id": "b101f860-2fed-48a9-9d17-81e828a9eaf3",
   "metadata": {},
   "source": [
    "Some of the popular languages that Data Scientist use are: \n",
    "1. Python\n",
    "2. R\n",
    "3. SQL\n",
    "4. C"
   ]
  },
  {
   "cell_type": "markdown",
   "id": "55b8d799-2311-4ca6-b1a5-0c6c5eb6c6c8",
   "metadata": {},
   "source": [
    "Some of the commonly used libraries used by Data Scientists include:\n",
    "1. pandas\n",
    "2. Numpy\n",
    "3. Matplotlib"
   ]
  },
  {
   "cell_type": "markdown",
   "id": "a4f1ba9a-11bf-4065-97ea-071889b99f72",
   "metadata": {},
   "source": [
    "|Data Science Tools|\n",
    "|:----------------:|\n",
    "|     Pytorch      |\n",
    "|     Sparkx       |\n",
    "|     Rstudio      |"
   ]
  },
  {
   "cell_type": "markdown",
   "id": "052faaa5-1a5d-4942-8f6b-791b00e39f49",
   "metadata": {},
   "source": [
    "### Below are a few examples of evaluation arithmetic expressions in Python"
   ]
  },
  {
   "cell_type": "code",
   "execution_count": 3,
   "id": "216744b7-6965-4ea1-979a-f7efdeb7f25b",
   "metadata": {
    "tags": []
   },
   "outputs": [
    {
     "data": {
      "text/plain": [
       "17"
      ]
     },
     "execution_count": 3,
     "metadata": {},
     "output_type": "execute_result"
    }
   ],
   "source": [
    "(3*4)+5"
   ]
  },
  {
   "cell_type": "code",
   "execution_count": 4,
   "id": "44e5ec60-5183-4a0b-aa1f-6ff42faf8165",
   "metadata": {
    "tags": []
   },
   "outputs": [
    {
     "data": {
      "text/plain": [
       "3.3333333333333335"
      ]
     },
     "execution_count": 4,
     "metadata": {},
     "output_type": "execute_result"
    }
   ],
   "source": [
    "200/60\n"
   ]
  },
  {
   "cell_type": "markdown",
   "id": "ab0dbbb3-e6c6-4ce6-95d5-3d852ad1b7f5",
   "metadata": {},
   "source": [
    "## Author"
   ]
  },
  {
   "cell_type": "markdown",
   "id": "f3486050-fa6c-4818-a927-ccbabc4f4b66",
   "metadata": {},
   "source": [
    "Brien E. Grant"
   ]
  },
  {
   "cell_type": "code",
   "execution_count": null,
   "id": "9c1c3330-93cd-4ae1-a961-8bdaba68d393",
   "metadata": {},
   "outputs": [],
   "source": []
  }
 ],
 "metadata": {
  "kernelspec": {
   "display_name": "Python",
   "language": "python",
   "name": "conda-env-python-py"
  },
  "language_info": {
   "codemirror_mode": {
    "name": "ipython",
    "version": 3
   },
   "file_extension": ".py",
   "mimetype": "text/x-python",
   "name": "python",
   "nbconvert_exporter": "python",
   "pygments_lexer": "ipython3",
   "version": "3.7.12"
  }
 },
 "nbformat": 4,
 "nbformat_minor": 5
}
